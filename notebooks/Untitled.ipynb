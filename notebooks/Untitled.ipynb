{
 "cells": [
  {
   "cell_type": "code",
   "execution_count": null,
   "id": "02674356-cab8-424a-b0f4-5749abba4b05",
   "metadata": {},
   "outputs": [],
   "source": []
  },
  {
   "cell_type": "code",
   "execution_count": 2,
   "id": "4ffc1e91-5fa2-4c40-9996-972eb7cd268e",
   "metadata": {
    "tags": []
   },
   "outputs": [],
   "source": [
    "import torch"
   ]
  },
  {
   "cell_type": "code",
   "execution_count": null,
   "id": "39e2f162-5246-41b4-894d-bc4784200ed2",
   "metadata": {},
   "outputs": [],
   "source": [
    "import torch\n",
    "\n",
    "def mnist():\n",
    "    \"\"\"Return train and test dataloaders for MNIST.\"\"\"\n",
    "    # exchange with the corrupted mnist dataset\n",
    "    train_images,  train_labels = [], []\n",
    "    for i in range(5):\n",
    "        train_images.append(torch.load('data/raw/train_images_{}.pt'.format(i)))\n",
    "        train_labels.append(torch.load('data/raw/train_target_{}.pt'.format(i)))\n",
    "    train_images = torch.cat(train_images)\n",
    "    train_labels = torch.cat(train_labels)\n",
    "\n",
    "    test_images = torch.load('data/raw/test_images.pt')\n",
    "    test_labels = torch.load('data/raw/test_target.pt')\n",
    "\n",
    "    #print(f\"{train_images.shape = }\")\n",
    "    train_images = train_images.unsqueeze(1)\n",
    "    test_images = test_images.unsqueeze(1)\n",
    "    #print(f\"{train_images.shape = }\")\n",
    "\n",
    "    # normalize the data\n",
    "    train_images = (train_images - train_images.mean(dim=[1,2,3], keepdim=True)) / train_images.std(dim=[1,2,3], keepdim=True)\n",
    "    test_images = (test_images - test_images.mean(dim=[1,2,3], keepdim=True)) / test_images.std(dim=[1,2,3], keepdim=True)\n",
    "    \n",
    "    torch.save(train_images, 'data/processed/train_images.pt')\n",
    "    torch.save(train_labels, 'data/processed/train_labels.pt')\n",
    "    torch.save(test_images, 'data/processed/test_images.pt')\n",
    "    torch.save(test_labels, 'data/processed/test_labels.pt')\n",
    "    \n",
    "if __name__ == '__main__':\n",
    "    # Get the data and process it\n",
    "    mnist()\n",
    "\n",
    "    \n"
   ]
  },
  {
   "cell_type": "code",
   "execution_count": 10,
   "id": "eebb2dfa-f4f5-488b-ac32-3b5b471b3268",
   "metadata": {
    "tags": []
   },
   "outputs": [],
   "source": [
    "train_images,  train_labels = [], []\n",
    "for i in range(5):\n",
    "    train_images.append(torch.load('../data/raw/train_images_{}.pt'.format(i)))\n",
    "    train_labels.append(torch.load('../data/raw/train_target_{}.pt'.format(i)))\n",
    "train_images = torch.cat(train_images)\n",
    "train_labels = torch.cat(train_labels)\n",
    "\n",
    "test_images = torch.load('../data/raw/test_images.pt')\n",
    "test_labels = torch.load('../data/raw/test_target.pt')\n",
    "\n",
    "#print(f\"{train_images.shape = }\")\n",
    "train_images = train_images.unsqueeze(1)\n",
    "test_images = test_images.unsqueeze(1)"
   ]
  },
  {
   "cell_type": "code",
   "execution_count": 44,
   "id": "184a2f11-9426-4c0f-a299-190e088d534e",
   "metadata": {
    "tags": []
   },
   "outputs": [
    {
     "name": "stdout",
     "output_type": "stream",
     "text": [
      "train_images.shape = torch.Size([25000, 1, 28, 28])\n",
      "train_images2.shape = torch.Size([25000, 1, 28, 28])\n"
     ]
    }
   ],
   "source": [
    "print(f\"{train_images.shape = }\")\n",
    "#print(f\"{train_images.view(train_images.shape[0],-1).shape = }\")\n",
    "#print(f\"{train_images.view(train_images.shape[0],-1).mean(dim=1).shape = }\")\n",
    "train_images = (train_images - train_images.mean(dim=[1,2,3], keepdim=True)) / train_images.std(dim=[1,2,3], keepdim=True)\n",
    "#norm = torch.nn.functional.normalize(train_images, dim=1)\n",
    "#print(f\"{train_images.mean(dim=).shape = }\")\n",
    "\n",
    "print(f\"{train_images2.shape = }\")\n"
   ]
  },
  {
   "cell_type": "code",
   "execution_count": 46,
   "id": "6f5f09e4-94ea-409d-bb2a-3894a8e10cb4",
   "metadata": {
    "tags": []
   },
   "outputs": [
    {
     "data": {
      "text/plain": [
       "tensor([1.0000, 1.0000, 1.0000,  ..., 1.0000, 1.0000, 1.0000])"
      ]
     },
     "execution_count": 46,
     "metadata": {},
     "output_type": "execute_result"
    }
   ],
   "source": [
    "train_images2.sum(dim=[1,2,3])\n",
    "#train_images2.std(dim=[1,2,3])\n"
   ]
  },
  {
   "cell_type": "code",
   "execution_count": 7,
   "id": "01e47bb3-4191-417e-b181-3830d1ea16d0",
   "metadata": {},
   "outputs": [],
   "source": [
    "train_loader = torch.utils.data.DataLoader(\n",
    "        torch.utils.data.TensorDataset(torch.load('../data/processed/train_images.pt'), \n",
    "                                       torch.load('../data/processed/train_labels.pt')),\n",
    "        batch_size=64, shuffle=True)"
   ]
  },
  {
   "cell_type": "code",
   "execution_count": 8,
   "id": "c74c8f72-db06-4540-816b-0a16e960ec4a",
   "metadata": {
    "tags": []
   },
   "outputs": [
    {
     "data": {
      "text/plain": [
       "[tensor([[[[0., 0., 0.,  ..., 0., 0., 0.],\n",
       "           [0., 0., 0.,  ..., 0., 0., 0.],\n",
       "           [0., 0., 0.,  ..., 0., 0., 0.],\n",
       "           ...,\n",
       "           [0., 0., 0.,  ..., 0., 0., 0.],\n",
       "           [0., 0., 0.,  ..., 0., 0., 0.],\n",
       "           [0., 0., 0.,  ..., 0., 0., 0.]]],\n",
       " \n",
       " \n",
       "         [[[0., 0., 0.,  ..., 0., 0., 0.],\n",
       "           [0., 0., 0.,  ..., 0., 0., 0.],\n",
       "           [0., 0., 0.,  ..., 0., 0., 0.],\n",
       "           ...,\n",
       "           [0., 0., 0.,  ..., 0., 0., 0.],\n",
       "           [0., 0., 0.,  ..., 0., 0., 0.],\n",
       "           [0., 0., 0.,  ..., 0., 0., 0.]]],\n",
       " \n",
       " \n",
       "         [[[0., 0., 0.,  ..., 0., 0., 0.],\n",
       "           [0., 0., 0.,  ..., 0., 0., 0.],\n",
       "           [0., 0., 0.,  ..., 0., 0., 0.],\n",
       "           ...,\n",
       "           [0., 0., 0.,  ..., 0., 0., 0.],\n",
       "           [0., 0., 0.,  ..., 0., 0., 0.],\n",
       "           [0., 0., 0.,  ..., 0., 0., 0.]]],\n",
       " \n",
       " \n",
       "         ...,\n",
       " \n",
       " \n",
       "         [[[0., 0., 0.,  ..., 0., 0., 0.],\n",
       "           [0., 0., 0.,  ..., 0., 0., 0.],\n",
       "           [0., 0., 0.,  ..., 0., 0., 0.],\n",
       "           ...,\n",
       "           [0., 0., 0.,  ..., 0., 0., 0.],\n",
       "           [0., 0., 0.,  ..., 0., 0., 0.],\n",
       "           [0., 0., 0.,  ..., 0., 0., 0.]]],\n",
       " \n",
       " \n",
       "         [[[0., 0., 0.,  ..., 0., 0., 0.],\n",
       "           [0., 0., 0.,  ..., 0., 0., 0.],\n",
       "           [0., 0., 0.,  ..., 0., 0., 0.],\n",
       "           ...,\n",
       "           [0., 0., 0.,  ..., 0., 0., 0.],\n",
       "           [0., 0., 0.,  ..., 0., 0., 0.],\n",
       "           [0., 0., 0.,  ..., 0., 0., 0.]]],\n",
       " \n",
       " \n",
       "         [[[0., 0., 0.,  ..., 0., 0., 0.],\n",
       "           [0., 0., 0.,  ..., 0., 0., 0.],\n",
       "           [0., 0., 0.,  ..., 0., 0., 0.],\n",
       "           ...,\n",
       "           [0., 0., 0.,  ..., 0., 0., 0.],\n",
       "           [0., 0., 0.,  ..., 0., 0., 0.],\n",
       "           [0., 0., 0.,  ..., 0., 0., 0.]]]]),\n",
       " tensor([2, 4, 4, 4, 5, 8, 8, 4, 3, 6, 1, 3, 2, 1, 6, 1, 6, 4, 6, 0, 1, 6, 4, 6,\n",
       "         4, 2, 6, 1, 1, 8, 3, 6, 2, 1, 4, 3, 7, 9, 3, 1, 4, 4, 4, 7, 6, 7, 4, 9,\n",
       "         2, 0, 7, 8, 5, 3, 8, 7, 1, 1, 0, 9, 2, 7, 2, 7])]"
      ]
     },
     "execution_count": 8,
     "metadata": {},
     "output_type": "execute_result"
    }
   ],
   "source": [
    "next(iter(train_loader))"
   ]
  },
  {
   "cell_type": "code",
   "execution_count": null,
   "id": "7166030d-64bc-493c-ad3d-0dc6816d6af6",
   "metadata": {},
   "outputs": [],
   "source": []
  }
 ],
 "metadata": {
  "kernelspec": {
   "display_name": "Python 3 (ipykernel)",
   "language": "python",
   "name": "python3"
  },
  "language_info": {
   "codemirror_mode": {
    "name": "ipython",
    "version": 3
   },
   "file_extension": ".py",
   "mimetype": "text/x-python",
   "name": "python",
   "nbconvert_exporter": "python",
   "pygments_lexer": "ipython3",
   "version": "3.10.7"
  }
 },
 "nbformat": 4,
 "nbformat_minor": 5
}
